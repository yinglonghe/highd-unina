{
 "cells": [
  {
   "cell_type": "code",
   "execution_count": 1,
   "id": "ea04c286-e0a6-4749-abf1-3a5e93d0ade7",
   "metadata": {
    "tags": []
   },
   "outputs": [],
   "source": [
    "import os\n",
    "import pandas as pd\n",
    "import numpy as np\n",
    "import matplotlib.pyplot as plt\n",
    "import multiprocessing\n",
    "from tqdm import tqdm\n",
    "\n",
    "from plotly.subplots import make_subplots\n",
    "import plotly.graph_objects as go\n",
    "from plotly.offline import plot\n",
    "import plotly.io as pio\n",
    "pio.kaleido.scope.default_format = \"svg\""
   ]
  },
  {
   "cell_type": "code",
   "execution_count": 2,
   "id": "a47aacd1-8462-42e2-a813-ac34b1daf74c",
   "metadata": {
    "tags": []
   },
   "outputs": [],
   "source": [
    "### Global variables ###\n",
    "indir = './outputs/tracks-slurm/'\n",
    "outdir = './outputs/tracks-plt/time-pos/'\n",
    "os.makedirs(outdir, exist_ok=True)"
   ]
  },
  {
   "cell_type": "code",
   "execution_count": 7,
   "id": "7b666624-5b9c-46d3-91a6-e513b0d58c26",
   "metadata": {
    "tags": []
   },
   "outputs": [],
   "source": [
    "def main(idx):\n",
    "    idx_str = '{0:02}'.format(idx)\n",
    "\n",
    "    df_meta = pd.read_pickle(indir + idx_str + '_meta.pkl')\n",
    "    upperLaneMarkings = np.fromstring(df_meta['upperLaneMarkings'][0], sep=\";\")\n",
    "    lowerLaneMarkings = np.fromstring(df_meta['lowerLaneMarkings'][0], sep=\";\")\n",
    "    upperLaneId = list(range(2, len(upperLaneMarkings)+1))\n",
    "    lowerLaneId = list(range(len(upperLaneMarkings)+2, len(upperLaneMarkings)+len(lowerLaneMarkings)+1))\n",
    "\n",
    "    df = pd.read_pickle(indir + idx_str + '_data.pkl')\n",
    "\n",
    "    fig1a = make_subplots(rows=len(upperLaneId), cols=1,\n",
    "        shared_xaxes=True,\n",
    "        vertical_spacing=0.02)\n",
    "    fig1b = make_subplots(rows=1, cols=1)\n",
    "\n",
    "    fig2a = make_subplots(rows=len(lowerLaneId), cols=1,\n",
    "        shared_xaxes=True,\n",
    "        vertical_spacing=0.02)\n",
    "    fig2b = make_subplots(rows=1, cols=1)\n",
    "\n",
    "    for i in tqdm(range(len(df))):\n",
    "        df_traj = pd.DataFrame({\n",
    "            'time': (df['frame'][i]-1)/df_meta['frameRate'][0],\n",
    "            'x': df['x'][i],\n",
    "            'laneId': df['laneId'][i],})\n",
    "\n",
    "        if df['drivingDirection'][i] == 1:\n",
    "            fig1b.add_trace(go.Scatter(x=df_traj['time'], y=df_traj['x'],\n",
    "                                       mode='lines',\n",
    "                                       name='vehId='+str(int(df['id'][i])),\n",
    "                                       line=dict(color=\"#000000\", width=0.5)),\n",
    "                            row=1, col=1)\n",
    "            for j, laneId in enumerate(upperLaneId):\n",
    "                df_lane = df_traj.loc[df_traj['laneId'] == laneId]\n",
    "                if len(df_lane) != 0:\n",
    "                    fig1a.add_trace(go.Scatter(x=df_lane['time'], y=df_lane['x'],\n",
    "                                               mode='lines',\n",
    "                                               name='vehId='+str(int(df['id'][i])),\n",
    "                                               line=dict(color=\"#000000\", width=0.5)),\n",
    "                                    row=j+1, col=1)\n",
    "\n",
    "        elif df['drivingDirection'][i] == 2:\n",
    "            fig2b.add_trace(go.Scatter(x=df_traj['time'], y=df_traj['x'],\n",
    "                                       mode='lines',\n",
    "                                       name='vehId='+str(int(df['id'][i])),\n",
    "                                       line=dict(color=\"#000000\", width=0.5)),\n",
    "                            row=1, col=1)\n",
    "            for j, laneId in enumerate(lowerLaneId):\n",
    "                df_lane = df_traj.loc[df_traj['laneId'] == laneId]\n",
    "                if len(df_lane) != 0:\n",
    "                    fig2a.add_trace(go.Scatter(x=df_lane['time'], y=df_lane['x'],\n",
    "                                               mode='lines',\n",
    "                                               name='vehId='+str(int(df['id'][i])),\n",
    "                                               line=dict(color=\"#000000\", width=0.5)),\n",
    "                                    row=j+1, col=1)\n",
    "\n",
    "    fig1a.update_xaxes(title_text='Time [s]', row=len(upperLaneId), col=1)\n",
    "    for j, laneId in enumerate(upperLaneId):\n",
    "        fig1a.update_yaxes(title_text=f'Pos [m] - Lane {laneId} - Direct 1', row=j+1, col=1)\n",
    "    fig1a.update_layout(showlegend=False, height=700, width=1000)\n",
    "    plot(fig1a, filename=outdir + idx_str + '_time_pos_direct1_lanes.html', auto_open=False)\n",
    "    fig1a.write_image(outdir + idx_str + '_time_pos_direct1_lanes.svg', engine='kaleido')\n",
    "\n",
    "    fig1b.update_xaxes(title_text='Time [s]', row=1, col=1)\n",
    "    fig1b.update_yaxes(title_text='Pos [m] - Direct 1 (to 0m)', row=1, col=1)\n",
    "    fig1b.update_layout(showlegend=False, height=600)\n",
    "    plot(fig1b, filename=outdir + idx_str + '_time_pos_direct1.html', auto_open=False)\n",
    "    fig1b.write_image(outdir + idx_str + '_time_pos_direct1.svg', engine='kaleido')\n",
    "\n",
    "    fig2a.update_xaxes(title_text='Time [s]', row=len(lowerLaneId), col=1)\n",
    "    for j, laneId in enumerate(lowerLaneId):\n",
    "        fig2a.update_yaxes(title_text=f'Pos [m] - Lane {laneId} - Direct 2', row=j+1, col=1)\n",
    "    fig2a.update_layout(showlegend=False, height=700, width=1000)\n",
    "    plot(fig2a, filename=outdir + idx_str + '_time_pos_direct2_lanes.html', auto_open=False)\n",
    "    fig2a.write_image(outdir + idx_str + '_time_pos_direct2_lanes.svg', engine='kaleido')\n",
    "\n",
    "    fig2b.update_xaxes(title_text='Time [s]', row=1, col=1)\n",
    "    fig2b.update_yaxes(title_text='Pos [m] - Direct 2 (from 0m)', row=1, col=1)\n",
    "    fig2b.update_layout(showlegend=False, height=600)\n",
    "    plot(fig2b, filename=outdir + idx_str + '_time_pos_direct2.html', auto_open=False)\n",
    "    fig2b.write_image(outdir + idx_str + '_time_pos_direct2.svg', engine='kaleido')\n",
    "\n",
    "\n",
    "    return fig1a, fig1b, fig2a, fig2b"
   ]
  },
  {
   "cell_type": "code",
   "execution_count": 8,
   "id": "567dafba-fe63-4047-a21a-c2ac20b1ac72",
   "metadata": {},
   "outputs": [
    {
     "name": "stderr",
     "output_type": "stream",
     "text": [
      "100%|████████████████████████████████████████████████████████████████████████████████████████████████████████████████████████████████████████████████████████████████████| 1047/1047 [00:02<00:00, 479.42it/s]\n",
      "100%|████████████████████████████████████████████████████████████████████████████████████████████████████████████████████████████████████████████████████████████████████| 1113/1113 [00:02<00:00, 477.30it/s]\n",
      "100%|██████████████████████████████████████████████████████████████████████████████████████████████████████████████████████████████████████████████████████████████████████| 914/914 [00:01<00:00, 472.22it/s]\n"
     ]
    }
   ],
   "source": [
    "for i in [1, 2, 3]:\n",
    "    fig1a, fig1b, fig2a, fig2b = main(i)"
   ]
  },
  {
   "cell_type": "code",
   "execution_count": null,
   "id": "858fe660-1918-470b-9570-0c22f26438b2",
   "metadata": {},
   "outputs": [],
   "source": [
    "fig2a"
   ]
  },
  {
   "cell_type": "code",
   "execution_count": null,
   "id": "1462b8ff-8188-485b-809d-5fc58f0fa3fd",
   "metadata": {},
   "outputs": [],
   "source": []
  }
 ],
 "metadata": {
  "kernelspec": {
   "display_name": "Python 3 (ipykernel)",
   "language": "python",
   "name": "python3"
  },
  "language_info": {
   "codemirror_mode": {
    "name": "ipython",
    "version": 3
   },
   "file_extension": ".py",
   "mimetype": "text/x-python",
   "name": "python",
   "nbconvert_exporter": "python",
   "pygments_lexer": "ipython3",
   "version": "3.8.13"
  }
 },
 "nbformat": 4,
 "nbformat_minor": 5
}
