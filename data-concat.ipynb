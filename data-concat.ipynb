{
 "cells": [
  {
   "cell_type": "code",
   "execution_count": 1,
   "id": "a258200f-2739-475c-8823-a6bf99d49abe",
   "metadata": {
    "tags": []
   },
   "outputs": [],
   "source": [
    "import os\n",
    "import sys\n",
    "import pandas as pd\n",
    "import multiprocessing\n",
    "from tqdm import tqdm\n",
    "\n",
    "from utils.read_csv import *"
   ]
  },
  {
   "cell_type": "code",
   "execution_count": 2,
   "id": "f5f0efa1-6748-490e-a56d-63a96e4dbd9f",
   "metadata": {},
   "outputs": [],
   "source": [
    "### Global variables ###    \n",
    "data_path = '../datasets/highd-dataset-v1.0/data/'\n",
    "out_path = './outputs/tracks-slurm/'\n",
    "os.makedirs(out_path, exist_ok=True)"
   ]
  },
  {
   "cell_type": "code",
   "execution_count": 3,
   "id": "2c286e87-b40b-4142-92e3-42414c19eb29",
   "metadata": {},
   "outputs": [],
   "source": [
    "def main(i):\n",
    "\n",
    "    idx_str = '{0:02}'.format(i)\n",
    "\n",
    "    created_arguments = {\n",
    "        'input_path': data_path + idx_str + \"_tracks.csv\",\n",
    "        'input_static_path': data_path + idx_str + \"_tracksMeta.csv\",\n",
    "        'input_meta_path': data_path + idx_str + \"_recordingMeta.csv\",\n",
    "        'background_image': data_path + idx_str + \"_highway.jpg\",\n",
    "    }\n",
    "\n",
    "    ### Read the video meta ###\n",
    "    df_rec = pd.read_csv(created_arguments[\"input_meta_path\"])\n",
    "    df_rec.to_csv(out_path + idx_str + '_meta.csv', index=False)\n",
    "    df_rec.to_pickle(out_path + idx_str + '_meta.pkl')\n",
    "#    meta = pd.read_pickle(out_path + idx_str + '_meta.pkl')\n",
    "#    display(meta)\n",
    "\n",
    "    ### Read the static info ###\n",
    "    try:\n",
    "        static_info = read_static_info(created_arguments)\n",
    "    except:\n",
    "        print(\"The static info file is either missing or contains incorrect characters.\")\n",
    "        sys.exit(1)\n",
    "    df_stc = pd.DataFrame(static_info).T\n",
    "#    display(df_stc)\n",
    "\n",
    "    ### Read the track csv and convert to useful format ###\n",
    "    tracks = read_track_csv(created_arguments, idx_str, df_stc, df_rec)\n",
    "    df_trc = pd.DataFrame(tracks)\n",
    "#    display(df_trc)\n",
    "\n",
    "    ### Merge data ###\n",
    "    df_comb = df_stc.merge(df_trc, on='id')\n",
    "    df_comb.to_csv(out_path + idx_str + '_data.csv', index=False)\n",
    "    df_comb.to_pickle(out_path + idx_str + '_data.pkl')\n",
    "#    data = pd.read_pickle(out_path + idx_str + '_data.pkl')\n",
    "#    display(data)"
   ]
  },
  {
   "cell_type": "code",
   "execution_count": null,
   "id": "ce78fc8e-4564-4d92-a1f9-748a6e561219",
   "metadata": {},
   "outputs": [],
   "source": [
    "# iter = list(range(1, 61))\n",
    "iter = list(range(1, 2))\n",
    "for i in tqdm(iter):\n",
    "    # print('Which recording is under test? '+str(i))\n",
    "    main(i)"
   ]
  },
  {
   "cell_type": "code",
   "execution_count": 4,
   "id": "c8ec1b03-1c2b-4119-be3f-8a48d3e37583",
   "metadata": {},
   "outputs": [
    {
     "name": "stderr",
     "output_type": "stream",
     "text": [
      "100%|██████████████████████████████████████████████████████████████████████████████████████████████████████████████████████████████████████████████████████████████| 60/60 [00:44<00:00,  1.36it/s]\n"
     ]
    }
   ],
   "source": [
    "# Combine data from different recordings\n",
    "df_data = pd.DataFrame()\n",
    "df_meta = pd.DataFrame()\n",
    "for i in tqdm(range(1, 61)):\n",
    "    idx_str = '{0:02}'.format(i)\n",
    "    df1 = pd.read_pickle(out_path + idx_str + '_data.pkl')\n",
    "    df1.insert(loc=0, column='recordingId', value=i)\n",
    "    df_data = pd.concat([df_data, df1])\n",
    "\n",
    "    df2 = pd.read_pickle(out_path + idx_str + '_meta.pkl')\n",
    "    df_meta = pd.concat([df_meta, df2])\n",
    "\n",
    "df_data =  df_data.rename(columns={'id': 'vehicleId'})\n",
    "# df_data.to_pickle(out_path + 'data.pkl')\n",
    "# df_data.to_csv(out_path + 'data.csv', index=False)\n",
    "\n",
    "df_meta = df_meta.rename(columns={'id': 'recordingId'})\n",
    "df_meta.to_pickle(out_path + 'meta.pkl')\n",
    "df_meta.to_csv(out_path + 'meta.csv', index=False)"
   ]
  },
  {
   "cell_type": "code",
   "execution_count": null,
   "id": "77884f92-02f1-4f23-99cc-6a240adf9f31",
   "metadata": {},
   "outputs": [],
   "source": []
  }
 ],
 "metadata": {
  "kernelspec": {
   "display_name": "Python 3 (ipykernel)",
   "language": "python",
   "name": "python3"
  },
  "language_info": {
   "codemirror_mode": {
    "name": "ipython",
    "version": 3
   },
   "file_extension": ".py",
   "mimetype": "text/x-python",
   "name": "python",
   "nbconvert_exporter": "python",
   "pygments_lexer": "ipython3",
   "version": "3.8.13"
  }
 },
 "nbformat": 4,
 "nbformat_minor": 5
}
