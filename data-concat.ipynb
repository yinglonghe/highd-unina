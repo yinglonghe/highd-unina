{
 "cells": [
  {
   "cell_type": "code",
   "execution_count": 1,
   "id": "a258200f-2739-475c-8823-a6bf99d49abe",
   "metadata": {
    "tags": []
   },
   "outputs": [],
   "source": [
    "import os\n",
    "import sys\n",
    "import pandas as pd\n",
    "import multiprocessing\n",
    "from tqdm import tqdm\n",
    "\n",
    "from utils.read_csv import *"
   ]
  },
  {
   "cell_type": "code",
   "execution_count": 2,
   "id": "f5f0efa1-6748-490e-a56d-63a96e4dbd9f",
   "metadata": {},
   "outputs": [],
   "source": [
    "### Global variables ###    \n",
    "data_path = '../datasets/highd-dataset-v1.0/data/'\n",
    "out_path = './outputs/tracks-slurm/'\n",
    "os.makedirs(out_path, exist_ok=True)"
   ]
  },
  {
   "cell_type": "code",
   "execution_count": 3,
   "id": "2c286e87-b40b-4142-92e3-42414c19eb29",
   "metadata": {},
   "outputs": [],
   "source": [
    "def main(i):\n",
    "\n",
    "    idx_str = '{0:02}'.format(i)\n",
    "\n",
    "    created_arguments = {\n",
    "        'input_path': data_path + idx_str + \"_tracks.csv\",\n",
    "        'input_static_path': data_path + idx_str + \"_tracksMeta.csv\",\n",
    "        'input_meta_path': data_path + idx_str + \"_recordingMeta.csv\",\n",
    "        'background_image': data_path + idx_str + \"_highway.jpg\",\n",
    "    }\n",
    "\n",
    "\t### Read the video meta ###\n",
    "    df_rec = pd.read_csv(created_arguments[\"input_meta_path\"])\n",
    "    df_rec.to_csv(out_path + idx_str + '_meta.csv', index=False)\n",
    "    df_rec.to_pickle(out_path + idx_str + '_meta.pkl')\n",
    "#    meta = pd.read_pickle(out_path + idx_str + '_meta.pkl')\n",
    "#    display(meta)\n",
    "\n",
    "\t### Read the static info ###\n",
    "    try:\n",
    "        static_info = read_static_info(created_arguments)\n",
    "    except:\n",
    "        print(\"The static info file is either missing or contains incorrect characters.\")\n",
    "        sys.exit(1)\n",
    "    df_stc = pd.DataFrame(static_info).T\n",
    "#    display(df_stc)\n",
    "\n",
    "\t### Read the track csv and convert to useful format ###\n",
    "    tracks = read_track_csv(created_arguments, idx_str, df_stc, df_rec)\n",
    "    df_trc = pd.DataFrame(tracks)\n",
    "#    display(df_trc)\n",
    "\n",
    "\t### Merge data ###\n",
    "    df_comb = df_stc.merge(df_trc, on='id')\n",
    "    df_comb.to_csv(out_path + idx_str + '_data.csv', index=False)\n",
    "    df_comb.to_pickle(out_path + idx_str + '_data.pkl')\n",
    "#    data = pd.read_pickle(out_path + idx_str + '_data.pkl')\n",
    "#    display(data)    "
   ]
  },
  {
   "cell_type": "code",
   "execution_count": 4,
   "id": "ce78fc8e-4564-4d92-a1f9-748a6e561219",
   "metadata": {},
   "outputs": [
    {
     "name": "stderr",
     "output_type": "stream",
     "text": [
      "  0%|                                                                                                                                                                                                                | 0/1 [00:00<?, ?it/s]"
     ]
    },
    {
     "name": "stdout",
     "output_type": "stream",
     "text": [
      "CPU Count: 256\n"
     ]
    },
    {
     "name": "stderr",
     "output_type": "stream",
     "text": [
      "100%|███████████████████████████████████████████████████████████████████████████████████████████████████████████████████████████████████████████████████████████████████████████████████████████████████████| 1/1 [02:12<00:00, 132.20s/it]\n"
     ]
    }
   ],
   "source": [
    "# iter = list(range(1, 61))\n",
    "iter = list(range(1, 2))\n",
    "for i in tqdm(iter):\n",
    "    # print('Which recording is under test? '+str(i))\n",
    "    main(i)"
   ]
  }
 ],
 "metadata": {
  "kernelspec": {
   "display_name": "Python 3 (ipykernel)",
   "language": "python",
   "name": "python3"
  },
  "language_info": {
   "codemirror_mode": {
    "name": "ipython",
    "version": 3
   },
   "file_extension": ".py",
   "mimetype": "text/x-python",
   "name": "python",
   "nbconvert_exporter": "python",
   "pygments_lexer": "ipython3",
   "version": "3.10.5"
  }
 },
 "nbformat": 4,
 "nbformat_minor": 5
}
