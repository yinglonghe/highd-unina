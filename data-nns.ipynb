{
 "cells": [
  {
   "cell_type": "markdown",
   "id": "8cc6892b-6950-493a-92f6-9546f3ae246f",
   "metadata": {
    "tags": []
   },
   "source": [
    "### Import packages"
   ]
  },
  {
   "cell_type": "code",
   "execution_count": null,
   "id": "390da6e0-4ffd-4bac-93b5-7eb76263d5bf",
   "metadata": {
    "tags": []
   },
   "outputs": [],
   "source": [
    "%%time\n",
    "import os\n",
    "import pandas as pd\n",
    "import numpy as np\n",
    "import matplotlib.pyplot as plt\n",
    "from tqdm import tqdm\n",
    "import tensorflow as tf\n",
    "import IPython\n",
    "import IPython.display\n",
    "import pickle\n",
    "from copy import deepcopy"
   ]
  },
  {
   "cell_type": "markdown",
   "id": "78eefcdc-424d-4369-8d57-532af035e1e1",
   "metadata": {
    "tags": []
   },
   "source": [
    "### Define global variables"
   ]
  },
  {
   "cell_type": "code",
   "execution_count": null,
   "id": "37c0ed26-0284-4a4f-9849-c7fe1b527a4a",
   "metadata": {},
   "outputs": [],
   "source": [
    "indir = './outputs/tracks-slurm/'\n",
    "outdir = './outputs/tracks-nns-tmp/'\n",
    "os.makedirs(outdir, exist_ok=True)"
   ]
  },
  {
   "cell_type": "markdown",
   "id": "05048fb7-1ac1-44a9-ab6a-e74275ec369c",
   "metadata": {
    "tags": []
   },
   "source": [
    "### Package the training procedure into a function"
   ]
  },
  {
   "cell_type": "code",
   "execution_count": null,
   "id": "03cb8379-e945-46b4-8811-0ac2ecbddc85",
   "metadata": {},
   "outputs": [],
   "source": [
    "multi_val_performance = {}\n",
    "multi_performance = {}\n",
    "MAX_EPOCHS = 20\n",
    "def compile_and_fit(model, window, patience=2):\n",
    "    early_stopping = tf.keras.callbacks.EarlyStopping(monitor='val_loss',\n",
    "                                                      patience=patience,\n",
    "                                                      mode='min')\n",
    "    model.compile(loss=tf.keras.losses.MeanSquaredError(),\n",
    "                  optimizer=tf.keras.optimizers.Adam(),\n",
    "                  metrics=[tf.keras.metrics.MeanAbsoluteError()])\n",
    "    history = model.fit(window.train, epochs=MAX_EPOCHS,\n",
    "                        validation_data=window.val,\n",
    "                        verbose=2,\n",
    "                        callbacks=[early_stopping])\n",
    "    return history, model"
   ]
  },
  {
   "cell_type": "markdown",
   "id": "20eb84c3-236b-4d97-a94a-0b0fe6931f46",
   "metadata": {
    "tags": []
   },
   "source": [
    "### WindowGenerator class"
   ]
  },
  {
   "cell_type": "code",
   "execution_count": null,
   "id": "e34dfde8-0ca0-427c-bd77-b481fe64cf55",
   "metadata": {},
   "outputs": [],
   "source": [
    "class WindowGenerator():\n",
    "    def __init__(self, input_width, label_width, shift, batch_size=32,\n",
    "                 df=None, ds=None, label_columns=None, column_indices=None):\n",
    "        self.batch_size = batch_size\n",
    "\n",
    "        # Work out the label column indices.\n",
    "        self.label_columns = label_columns\n",
    "        if label_columns is not None:\n",
    "            self.label_columns_indices = {name: i for i, name in\n",
    "                                          enumerate(label_columns)}\n",
    "\n",
    "        # Work out the window parameters.\n",
    "        self.input_width = input_width\n",
    "        self.label_width = label_width\n",
    "        self.shift = shift\n",
    "\n",
    "        self.total_window_size = input_width + shift\n",
    "\n",
    "        self.input_slice = slice(0, input_width)\n",
    "        self.input_indices = np.arange(self.total_window_size)[self.input_slice]\n",
    "\n",
    "        self.label_start = self.total_window_size - self.label_width\n",
    "        self.labels_slice = slice(self.label_start, None)\n",
    "        self.label_indices = np.arange(self.total_window_size)[self.labels_slice]\n",
    "        \n",
    "        # Store the raw data.\n",
    "        if df is None:\n",
    "            assert ds is not None and column_indices is not None\n",
    "            self.ds = ds\n",
    "            self.column_indices = column_indices\n",
    "        else:\n",
    "            self.df = df\n",
    "            self.column_indices = {name: i for i, name in\n",
    "                       enumerate(self.df.columns)}\n",
    "            self.ds = self.make_dataset(self.df)\n",
    "    \n",
    "    \n",
    "    def __repr__(self):\n",
    "        return '\\n'.join([\n",
    "            f'Total window size: {self.total_window_size}',\n",
    "            f'Input indices: {self.input_indices}',\n",
    "            f'Label indices: {self.label_indices}',\n",
    "            f'Label column name(s): {self.label_columns}'])\n",
    "    \n",
    "    \n",
    "    def make_dataset(self, data):\n",
    "        data = np.array(data, dtype=np.float32)\n",
    "        ds = tf.keras.utils.timeseries_dataset_from_array(\n",
    "            data=data,\n",
    "            targets=None,\n",
    "            sequence_length=self.total_window_size,\n",
    "            sequence_stride=1,\n",
    "            shuffle=True,\n",
    "            batch_size=self.batch_size,)\n",
    "\n",
    "        ds = ds.map(self.split_window)\n",
    "\n",
    "        return ds\n",
    "    \n",
    "    \n",
    "    def split_window(self, features):\n",
    "        inputs = features[:, self.input_slice, :]\n",
    "        labels = features[:, self.labels_slice, :]\n",
    "        if self.label_columns is not None:\n",
    "            labels = tf.stack(\n",
    "                [labels[:, :, self.column_indices[name]] for name in self.label_columns],\n",
    "                axis=-1)\n",
    "\n",
    "        # Slicing doesn't preserve static shape information, so set the shapes\n",
    "        # manually. This way the `tf.data.Datasets` are easier to inspect.\n",
    "        inputs.set_shape([None, self.input_width, None])\n",
    "        labels.set_shape([None, self.label_width, None])\n",
    "\n",
    "        return inputs, labels\n",
    "    \n",
    "    \n",
    "    def plot(self, model=None, plot_col='xAcceleration', max_subplots=3):\n",
    "        inputs, labels = self.example\n",
    "        plt.figure(figsize=(12, 8))\n",
    "        plot_col_index = self.column_indices[plot_col]\n",
    "        max_n = min(max_subplots, len(inputs))\n",
    "        for n in range(max_n):\n",
    "            plt.subplot(max_n, 1, n+1)\n",
    "            plt.ylabel(f'{plot_col} [normed]')\n",
    "            plt.plot(self.input_indices, inputs[n, :, plot_col_index],\n",
    "                     label='Inputs', marker='.', zorder=-10)\n",
    "\n",
    "            if self.label_columns:\n",
    "                label_col_index = self.label_columns_indices.get(plot_col, None)\n",
    "            else:\n",
    "                label_col_index = plot_col_index\n",
    "\n",
    "            if label_col_index is None:\n",
    "                continue\n",
    "\n",
    "            plt.scatter(self.label_indices, labels[n, :, label_col_index],\n",
    "                        edgecolors='k', label='Labels', c='#2ca02c', s=64)\n",
    "            if model is not None:\n",
    "                predictions = model(inputs)\n",
    "                plt.scatter(self.label_indices, predictions[n, :, label_col_index],\n",
    "                            marker='X', edgecolors='k', label='Predictions',\n",
    "                            c='#ff7f0e', s=64)\n",
    "\n",
    "            if n == 0:\n",
    "                plt.legend()\n",
    "\n",
    "        plt.xlabel('Step')\n",
    "    \n",
    "    \n",
    "    def get_dataset_partitions_tf(self, train_split=0.7, val_split=0.2, test_split=0.1, shuffle=True, shuffle_size=100):\n",
    "        \n",
    "        assert (train_split + test_split + val_split) == 1\n",
    "        \n",
    "        ds_size = len(list(self.ds))\n",
    "        \n",
    "        if shuffle:\n",
    "            # Specify seed to always have the same split distribution between runs\n",
    "            ds = self.ds.shuffle(shuffle_size, seed=12)\n",
    "\n",
    "        train_size = int(train_split * ds_size)\n",
    "        val_size = int(val_split * ds_size)\n",
    "\n",
    "        train = ds.take(train_size)\n",
    "        val = ds.skip(train_size).take(val_size)\n",
    "        test = ds.skip(train_size).skip(val_size)\n",
    "\n",
    "        return train, val, test\n",
    "    \n",
    "    \n",
    "    @property\n",
    "    def example(self):\n",
    "        \"\"\"Get and cache an example batch of `inputs, labels` for plotting.\"\"\"\n",
    "        result = getattr(self, '_example', None)\n",
    "        if result is None:\n",
    "            # No example batch was found, so get one from the `.train` dataset\n",
    "            result = next(iter(self.ds))\n",
    "            # And cache it for next time\n",
    "            self._example = result\n",
    "        return result"
   ]
  },
  {
   "cell_type": "markdown",
   "id": "d6affa13-8441-4a28-bf7b-f7ea338ed2db",
   "metadata": {},
   "source": [
    "## Main"
   ]
  },
  {
   "cell_type": "code",
   "execution_count": null,
   "id": "b108afe9-9c92-4700-b6be-4e3fb84e538b",
   "metadata": {},
   "outputs": [],
   "source": [
    "debug_break = True\n",
    "cnt_break = 300"
   ]
  },
  {
   "cell_type": "code",
   "execution_count": null,
   "id": "c01a89a7-9989-486b-b518-24ddb96167fa",
   "metadata": {},
   "outputs": [],
   "source": [
    "# Data windowing parameters\n",
    "# 1-1-1 (single_step_window), 6-1-1 (conv_window), 24-24-1 (wide_window), 26-24-1 (wide_conv_window) 24-24-24 (multi_window)\n",
    "input_width = 8\n",
    "label_width = 8\n",
    "shift = 8\n",
    "\n",
    "dsdir = outdir+f'saved_data-{input_width}_{label_width}_{shift}'\n",
    "coldir = dsdir+'/column_indices.pkl'\n",
    "modeldir = outdir+f'saved_model-{input_width}_{label_width}_{shift}'\n",
    "print(modeldir)"
   ]
  },
  {
   "cell_type": "markdown",
   "id": "0beb6020-1e87-4f2f-9767-d1046d3fd147",
   "metadata": {
    "tags": []
   },
   "source": [
    "### Load HighD dataset"
   ]
  },
  {
   "cell_type": "code",
   "execution_count": null,
   "id": "0a245966-d46c-4b0f-b5aa-73236764d311",
   "metadata": {},
   "outputs": [],
   "source": [
    "%%time\n",
    "df_meta = pd.read_pickle(indir + 'meta.pkl')\n",
    "print(df_meta.columns)\n",
    "print(len(df_meta))\n",
    "df_meta.head(2)"
   ]
  },
  {
   "cell_type": "code",
   "execution_count": null,
   "id": "c2447b74-b0a3-4f5d-88ea-0e180481d710",
   "metadata": {},
   "outputs": [],
   "source": [
    "%%time\n",
    "df_data = pd.read_pickle(indir + 'data.pkl')\n",
    "print(df_data.columns)\n",
    "print(len(df_data))\n",
    "df_data.head(2)"
   ]
  },
  {
   "cell_type": "code",
   "execution_count": null,
   "id": "03d2584a-ae3a-42ea-8674-b8b143fa988d",
   "metadata": {},
   "outputs": [],
   "source": [
    "df_data.groupby('class').numFrames.hist(bins=50, legend=True)\n",
    "plt.xlim(100, 600)\n",
    "plt.xlabel('numFrames (0-Car, 1-Others)')"
   ]
  },
  {
   "cell_type": "markdown",
   "id": "e49c4591-bf18-41ad-b44f-a47c16d7cae5",
   "metadata": {
    "tags": []
   },
   "source": [
    "### Select data and pre-processing"
   ]
  },
  {
   "cell_type": "code",
   "execution_count": null,
   "id": "9de259db-6385-44b3-abdd-6d105167f922",
   "metadata": {},
   "outputs": [],
   "source": [
    "df_truck = df_data.loc[(df_data['class'] == 1) & (df_data['numFrames'] >= 200) & (df_data['numFrames'] <= 500)].reset_index(drop=True)\n",
    "print(len(df_truck))\n",
    "df_truck.head(2)"
   ]
  },
  {
   "cell_type": "code",
   "execution_count": null,
   "id": "10387af0-867f-4d18-a839-0a6c6c645e94",
   "metadata": {},
   "outputs": [],
   "source": [
    "df_car = df_data.loc[(df_data['class'] == 0) & (df_data['numFrames'] >= 200) & (df_data['numFrames'] <= 500)].reset_index(drop=True)\n",
    "print(len(df_car))\n",
    "df_car.head(2)"
   ]
  },
  {
   "cell_type": "code",
   "execution_count": null,
   "id": "cd5f4808-8c84-4e75-b1a2-3ed344e834a8",
   "metadata": {},
   "outputs": [],
   "source": [
    "df = df_car"
   ]
  },
  {
   "cell_type": "code",
   "execution_count": null,
   "id": "9af4fda6-0627-4840-80c4-a78769378404",
   "metadata": {},
   "outputs": [],
   "source": [
    "df_stat = df.loc[:, 'recordingId':'numLaneChanges']\n",
    "print(len(df_stat))\n",
    "df_stat.head(2)"
   ]
  },
  {
   "cell_type": "code",
   "execution_count": null,
   "id": "03899e14-6bf6-4704-a160-3be1ad2a2f11",
   "metadata": {},
   "outputs": [],
   "source": [
    "df_traj = df.loc[:, 'frame':'traffic_speed']\n",
    "print(len(df_traj))\n",
    "df_traj.head(2)"
   ]
  },
  {
   "cell_type": "code",
   "execution_count": null,
   "id": "0b8a9d9b-dc0b-4328-a016-39c934ad6355",
   "metadata": {},
   "outputs": [],
   "source": [
    "del_cols = ['frame', 'precedingId', 'followingId', 'leftFollowingId', 'leftAlongsideId',\n",
    "            'leftPrecedingId', 'rightFollowingId', 'rightAlongsideId', 'rightPrecedingId']\n",
    "\n",
    "df_flatten = pd.DataFrame()\n",
    "for idx, row in tqdm(df_traj.iterrows(), total=df_traj.shape[0], mininterval=5):\n",
    "    df_ = pd.DataFrame()\n",
    "    for col_name, col_val in row.iteritems():\n",
    "        if col_name not in del_cols:\n",
    "            df_[col_name] = col_val\n",
    "    df_ = df_[5::6]\n",
    "    if idx == 0:\n",
    "        df_flatten = df_\n",
    "    else:\n",
    "        df_flatten = pd.concat([df_flatten, df_])\n",
    "\n",
    "    if debug_break and idx == cnt_break:\n",
    "        break\n",
    "        \n",
    "df_mean = df_flatten.mean()\n",
    "df_std = df_flatten.std()"
   ]
  },
  {
   "cell_type": "markdown",
   "id": "ef3d591e-09e8-490c-af4d-f452d3f4bf60",
   "metadata": {},
   "source": [
    "### Data windowing"
   ]
  },
  {
   "cell_type": "code",
   "execution_count": null,
   "id": "b7e5c059-f8fd-4f41-9e55-c6584e82a98c",
   "metadata": {},
   "outputs": [],
   "source": [
    "%%time\n",
    "for idx, row in tqdm(df_traj.iterrows(), total=df_traj.shape[0], mininterval=10):\n",
    "    df_ = pd.DataFrame()\n",
    "    for col_name, col_val in row.iteritems():\n",
    "        if col_name not in del_cols:\n",
    "            df_[col_name] = col_val\n",
    "    df_ = df_[5::6]\n",
    "    df_ = (df_ - df_mean) / df_std\n",
    "    \n",
    "    w_ = WindowGenerator(input_width=input_width, label_width=label_width, shift=shift, df=df_,\n",
    "                         label_columns=['xAcceleration'])\n",
    "    if idx == 0:\n",
    "        w = w_\n",
    "    else:\n",
    "        w.ds = w.ds.concatenate(w_.ds)\n",
    "\n",
    "    if debug_break and idx == cnt_break:\n",
    "        break"
   ]
  },
  {
   "cell_type": "markdown",
   "id": "289fe106-d47e-4206-99df-07b9e2f8dcb5",
   "metadata": {},
   "source": [
    "### Data loading (skip)"
   ]
  },
  {
   "cell_type": "markdown",
   "id": "a1c420d6-d059-4683-94d4-09f655ed4a12",
   "metadata": {},
   "source": [
    "ds_load = tf.data.experimental.load(dsdir)\n",
    "with open(coldir, 'rb') as f:\n",
    "    cols_load = pickle.load(f)\n",
    "\n",
    "w = WindowGenerator(input_width=input_width, label_width=label_width, shift=shift, ds=ds_load,\n",
    "                    label_columns=['xAcceleration'], column_indices=cols_load)\n",
    "print('Data loaded!')"
   ]
  },
  {
   "cell_type": "markdown",
   "id": "620c226d-8a29-4bc8-834b-1ffbc96b9633",
   "metadata": {},
   "source": [
    "### Split the dataset"
   ]
  },
  {
   "cell_type": "code",
   "execution_count": null,
   "id": "4e4a427f-bbf2-4ae4-8d9d-87c143a73d63",
   "metadata": {},
   "outputs": [],
   "source": [
    "w.train, w.val, w.test = w.get_dataset_partitions_tf()"
   ]
  },
  {
   "cell_type": "markdown",
   "id": "bbe41056-e9d1-48f1-a4fb-4594c55d4a9e",
   "metadata": {},
   "source": [
    "### Traing neural networks"
   ]
  },
  {
   "cell_type": "code",
   "execution_count": null,
   "id": "ba924f19-33a2-4351-90d2-88c61fe7394b",
   "metadata": {},
   "outputs": [],
   "source": [
    "num_features = len(w.column_indices)\n",
    "OUT_STEPS = w.label_width\n",
    "\n",
    "multi_lstm_model = tf.keras.Sequential([\n",
    "    tf.keras.layers.LSTM(32, return_sequences=False),\n",
    "    tf.keras.layers.Dense(OUT_STEPS*num_features,\n",
    "                          kernel_initializer=tf.initializers.zeros()),\n",
    "    tf.keras.layers.Reshape([OUT_STEPS, num_features])\n",
    "])\n",
    "\n",
    "history, model = compile_and_fit(multi_lstm_model, w)\n",
    "\n",
    "# IPython.display.clear_output()\n",
    "\n",
    "multi_val_performance['LSTM'] = model.evaluate(w.val)\n",
    "multi_performance['LSTM'] = model.evaluate(w.test, verbose=2)\n",
    "\n",
    "model.summary()\n",
    "model.save(modeldir+'/my_model')\n",
    "print('Model saved!')\n",
    "w.plot(model)"
   ]
  },
  {
   "cell_type": "markdown",
   "id": "6ffdc5ac-8301-47b3-adc0-96825f690c28",
   "metadata": {},
   "source": [
    "### Data Saving"
   ]
  },
  {
   "cell_type": "code",
   "execution_count": null,
   "id": "746e747a-da71-4753-a672-0748771a369c",
   "metadata": {},
   "outputs": [],
   "source": [
    "tf.data.experimental.save(w.ds, dsdir)\n",
    "with open(coldir, 'wb') as f:\n",
    "    pickle.dump(w.column_indices, f)\n",
    "print('Data saved!')"
   ]
  },
  {
   "cell_type": "code",
   "execution_count": null,
   "id": "76c6c51d-4fff-49c8-907d-26efc64b6cc6",
   "metadata": {},
   "outputs": [],
   "source": []
  }
 ],
 "metadata": {
  "kernelspec": {
   "display_name": "Python 3 (ipykernel)",
   "language": "python",
   "name": "python3"
  },
  "language_info": {
   "codemirror_mode": {
    "name": "ipython",
    "version": 3
   },
   "file_extension": ".py",
   "mimetype": "text/x-python",
   "name": "python",
   "nbconvert_exporter": "python",
   "pygments_lexer": "ipython3",
   "version": "3.8.13"
  },
  "toc-autonumbering": false,
  "toc-showcode": false,
  "toc-showmarkdowntxt": true
 },
 "nbformat": 4,
 "nbformat_minor": 5
}
